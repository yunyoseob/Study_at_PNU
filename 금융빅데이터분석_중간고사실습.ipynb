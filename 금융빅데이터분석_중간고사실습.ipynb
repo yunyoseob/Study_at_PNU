{
  "nbformat": 4,
  "nbformat_minor": 0,
  "metadata": {
    "colab": {
      "name": "금융빅데이터분석_중간고사실습.ipynb",
      "provenance": [],
      "collapsed_sections": []
    },
    "kernelspec": {
      "name": "python3",
      "display_name": "Python 3"
    },
    "language_info": {
      "name": "python"
    }
  },
  "cells": [
    {
      "cell_type": "markdown",
      "metadata": {
        "id": "6h6GcdkD1xU1"
      },
      "source": [
        "#Linear Regression\n"
      ]
    },
    {
      "cell_type": "code",
      "metadata": {
        "id": "Hre1Mhfp1xcd"
      },
      "source": [
        "import tensorflow as tf\n",
        "import random"
      ],
      "execution_count": 3,
      "outputs": []
    },
    {
      "cell_type": "code",
      "metadata": {
        "colab": {
          "base_uri": "https://localhost:8080/",
          "height": 35
        },
        "id": "eVrbdlW9192r",
        "outputId": "6ddd17c1-6fa6-4ab2-e4a9-baa211f5737b"
      },
      "source": [
        "tf.__version__"
      ],
      "execution_count": 4,
      "outputs": [
        {
          "output_type": "execute_result",
          "data": {
            "application/vnd.google.colaboratory.intrinsic+json": {
              "type": "string"
            },
            "text/plain": [
              "'2.6.0'"
            ]
          },
          "metadata": {},
          "execution_count": 4
        }
      ]
    },
    {
      "cell_type": "code",
      "metadata": {
        "id": "4nzlJriZ2AGm"
      },
      "source": [
        "!pip uninstall tensorflow"
      ],
      "execution_count": null,
      "outputs": []
    },
    {
      "cell_type": "markdown",
      "metadata": {
        "id": "nuYtTgVs2jtw"
      },
      "source": [
        "tensorflow version을 2.6.0 에서 1.13.1으로 다운그레이드 해줍니다."
      ]
    },
    {
      "cell_type": "code",
      "metadata": {
        "id": "Nkxiyx5T2iow"
      },
      "source": [
        "!pip install tensorflow==1.13.1"
      ],
      "execution_count": null,
      "outputs": []
    },
    {
      "cell_type": "code",
      "metadata": {
        "id": "ygoUGV3N22KZ"
      },
      "source": [
        "import tensorflow as tf\n",
        "import random"
      ],
      "execution_count": 52,
      "outputs": []
    },
    {
      "cell_type": "code",
      "metadata": {
        "colab": {
          "base_uri": "https://localhost:8080/",
          "height": 35
        },
        "id": "6zef-sG824TF",
        "outputId": "14338172-786e-4290-867a-b5ede172ed59"
      },
      "source": [
        "tf.__version__"
      ],
      "execution_count": 53,
      "outputs": [
        {
          "output_type": "execute_result",
          "data": {
            "application/vnd.google.colaboratory.intrinsic+json": {
              "type": "string"
            },
            "text/plain": [
              "'1.13.1'"
            ]
          },
          "metadata": {},
          "execution_count": 53
        }
      ]
    },
    {
      "cell_type": "code",
      "metadata": {
        "colab": {
          "base_uri": "https://localhost:8080/"
        },
        "id": "GH-vkUj77bc7",
        "outputId": "8f872ad7-4df3-4e58-f816-2d3385688aca"
      },
      "source": [
        "hello=tf.constant(\"Hello, Tensorflow!\")\n",
        "sess=tf.Session()\n",
        "print(sess.run(hello))"
      ],
      "execution_count": 54,
      "outputs": [
        {
          "output_type": "stream",
          "name": "stdout",
          "text": [
            "b'Hello, Tensorflow!'\n"
          ]
        }
      ]
    },
    {
      "cell_type": "code",
      "metadata": {
        "id": "95U1f4BT1jsM"
      },
      "source": [
        "x_train=[1,2,3]\n",
        "y_train=[1,2,3]"
      ],
      "execution_count": 55,
      "outputs": []
    },
    {
      "cell_type": "code",
      "metadata": {
        "colab": {
          "base_uri": "https://localhost:8080/"
        },
        "id": "Z9ud8c9k6O9Y",
        "outputId": "8f357ba8-6438-4b8a-a3d6-f2e4017a43dc"
      },
      "source": [
        "import numpy as np\n",
        "print(np.array(x_train).shape)\n",
        "print(np.array(y_train).shape)"
      ],
      "execution_count": 56,
      "outputs": [
        {
          "output_type": "stream",
          "name": "stdout",
          "text": [
            "(3,)\n",
            "(3,)\n"
          ]
        }
      ]
    },
    {
      "cell_type": "code",
      "metadata": {
        "colab": {
          "base_uri": "https://localhost:8080/"
        },
        "id": "p0644c_t1mvj",
        "outputId": "a7c6c91c-3fb5-4261-a3fc-681300e3f5af"
      },
      "source": [
        "# Try to find value for W and b to compute y_data = x_data + W + b\n",
        "# We know that W should be 1 and b shoud be 0\n",
        "# But let's TensorFlow figure it out\n",
        "\n",
        "W=tf.Variable(tf.random_normal([1]), name=\"weight\") # tf.random_normal: 난수 생성\n",
        "b=tf.Variable(tf.random_normal([1]), name='bias')\n",
        "\n",
        "print(\"W: \", W)\n",
        "print(\"b: \", b)"
      ],
      "execution_count": 57,
      "outputs": [
        {
          "output_type": "stream",
          "name": "stdout",
          "text": [
            "W:  <tf.Variable 'weight_3:0' shape=(1,) dtype=float32_ref>\n",
            "b:  <tf.Variable 'bias_5:0' shape=(1,) dtype=float32_ref>\n"
          ]
        }
      ]
    },
    {
      "cell_type": "code",
      "metadata": {
        "colab": {
          "base_uri": "https://localhost:8080/"
        },
        "id": "MxHlgF6u3Iwd",
        "outputId": "dee9194d-a9fc-49b7-800b-226412b15782"
      },
      "source": [
        "# Out hypothesis WX +b\n",
        "hypothesis=x_train*W + b\n",
        "\n",
        "print(\"hypothesis: \", hypothesis)"
      ],
      "execution_count": 58,
      "outputs": [
        {
          "output_type": "stream",
          "name": "stdout",
          "text": [
            "hypothesis:  Tensor(\"add_8:0\", shape=(3,), dtype=float32)\n"
          ]
        }
      ]
    },
    {
      "cell_type": "code",
      "metadata": {
        "colab": {
          "base_uri": "https://localhost:8080/"
        },
        "id": "e5ZFqpsG3Rw8",
        "outputId": "356079ef-8163-46ef-9b4f-350cec8cd426"
      },
      "source": [
        "cost=tf.reduce_mean(tf.square(hypothesis - y_train))\n",
        "\n",
        "print(\"cost :\", cost)"
      ],
      "execution_count": 59,
      "outputs": [
        {
          "output_type": "stream",
          "name": "stdout",
          "text": [
            "cost : Tensor(\"Mean_5:0\", shape=(), dtype=float32)\n"
          ]
        }
      ]
    },
    {
      "cell_type": "code",
      "metadata": {
        "colab": {
          "base_uri": "https://localhost:8080/"
        },
        "id": "B_7K6F1o3X1q",
        "outputId": "c2410fab-fd1d-4668-83c1-6d793682c1eb"
      },
      "source": [
        "optimizer= tf.train.GradientDescentOptimizer(learning_rate=0.01)\n",
        "train=optimizer.minimize(cost)\n",
        "\n",
        "print(\"optimizer: \", optimizer)\n",
        "print(\"train: \", train)"
      ],
      "execution_count": 60,
      "outputs": [
        {
          "output_type": "stream",
          "name": "stdout",
          "text": [
            "optimizer:  <tensorflow.python.training.gradient_descent.GradientDescentOptimizer object at 0x7ff3bfdd2910>\n",
            "train:  name: \"GradientDescent_4\"\n",
            "op: \"NoOp\"\n",
            "input: \"^GradientDescent_4/update_weight_3/ApplyGradientDescent\"\n",
            "input: \"^GradientDescent_4/update_bias_5/ApplyGradientDescent\"\n",
            "\n"
          ]
        }
      ]
    },
    {
      "cell_type": "code",
      "metadata": {
        "colab": {
          "base_uri": "https://localhost:8080/"
        },
        "id": "pG1nTNjO3lV3",
        "outputId": "c36e7153-de2f-42df-d874-6f748db327c2"
      },
      "source": [
        "# Launch the graph in a session\n",
        "sess=tf.Session()\n",
        "\n",
        "# initializes global variables in the graph.\n",
        "sess.run(tf.global_variables_initializer())\n",
        "\n",
        "print(\"sess: \", sess)"
      ],
      "execution_count": 61,
      "outputs": [
        {
          "output_type": "stream",
          "name": "stdout",
          "text": [
            "sess:  <tensorflow.python.client.session.Session object at 0x7ff3bff23b10>\n"
          ]
        }
      ]
    },
    {
      "cell_type": "code",
      "metadata": {
        "colab": {
          "base_uri": "https://localhost:8080/"
        },
        "id": "zEBv4BS63yM5",
        "outputId": "f5d2e57a-e488-41e7-b861-6ba7ff60cee1"
      },
      "source": [
        "for step in range(4001):\n",
        "  sess.run(train)\n",
        "  if step%200 ==0:\n",
        "    print(step, sess.run(cost), sess.run(W), sess.run(b))"
      ],
      "execution_count": 62,
      "outputs": [
        {
          "output_type": "stream",
          "name": "stdout",
          "text": [
            "0 28.44174 [-1.0682838] [-0.9220759]\n",
            "200 5.756226e-06 [1.0027866] [-0.00633448]\n",
            "400 2.1983185e-06 [1.0017222] [-0.00391473]\n",
            "600 8.4004733e-07 [1.0010644] [-0.00241974]\n",
            "800 3.2114687e-07 [1.0006584] [-0.00149626]\n",
            "1000 1.2296913e-07 [1.0004075] [-0.00092564]\n",
            "1200 4.7147193e-08 [1.0002525] [-0.00057303]\n",
            "1400 1.8102606e-08 [1.0001565] [-0.00035498]\n",
            "1600 7.0042887e-09 [1.0000974] [-0.00022063]\n",
            "1800 2.6793192e-09 [1.0000604] [-0.00013664]\n",
            "2000 1.026598e-09 [1.0000371] [-8.480505e-05]\n",
            "2200 3.8592063e-10 [1.0000229] [-5.1792e-05]\n",
            "2400 1.5780326e-10 [1.0000148] [-3.298118e-05]\n",
            "2600 7.3863284e-11 [1.0000101] [-2.22746e-05]\n",
            "2800 3.8181014e-11 [1.0000075] [-1.6155172e-05]\n",
            "3000 2.4690175e-11 [1.0000061] [-1.26953155e-05]\n",
            "3200 1.7158422e-11 [1.0000051] [-1.0696562e-05]\n",
            "3400 1.480771e-11 [1.0000048] [-9.6836675e-06]\n",
            "3600 1.336294e-11 [1.0000044] [-9.068131e-06]\n",
            "3800 1.2628713e-11 [1.0000043] [-8.695797e-06]\n",
            "4000 1.22781785e-11 [1.0000043] [-8.61273e-06]\n"
          ]
        }
      ]
    },
    {
      "cell_type": "markdown",
      "metadata": {
        "id": "klO95tQx4D73"
      },
      "source": [
        "#Multi_Linear regression\n"
      ]
    },
    {
      "cell_type": "code",
      "metadata": {
        "id": "cM1jVeLd39T1"
      },
      "source": [
        "x1_data = [73., 93., 89., 96., 73.]\n",
        "x2_data = [80., 88., 91., 98., 66.]\n",
        "x3_data = [75., 93., 90., 100., 70.]\n",
        "\n",
        "y_data = [152., 185., 180., 196., 142.]"
      ],
      "execution_count": 63,
      "outputs": []
    },
    {
      "cell_type": "code",
      "metadata": {
        "colab": {
          "base_uri": "https://localhost:8080/"
        },
        "id": "SniDLnvM6h60",
        "outputId": "b35fc677-90a8-496a-fb58-291d0a00f7d8"
      },
      "source": [
        "print(np.array(x1_data).shape) \n",
        "print(np.array(x2_data).shape)\n",
        "print(np.array(x3_data).shape)\n",
        "print(np.array(y_data).shape)"
      ],
      "execution_count": 64,
      "outputs": [
        {
          "output_type": "stream",
          "name": "stdout",
          "text": [
            "(5,)\n",
            "(5,)\n",
            "(5,)\n",
            "(5,)\n"
          ]
        }
      ]
    },
    {
      "cell_type": "code",
      "metadata": {
        "colab": {
          "base_uri": "https://localhost:8080/"
        },
        "id": "4ZI70FrT4IIX",
        "outputId": "971c2f98-8cc2-4bbd-b3f7-693761ab7183"
      },
      "source": [
        "print(type(x1_data[0]))"
      ],
      "execution_count": 65,
      "outputs": [
        {
          "output_type": "stream",
          "name": "stdout",
          "text": [
            "<class 'float'>\n"
          ]
        }
      ]
    },
    {
      "cell_type": "code",
      "metadata": {
        "colab": {
          "base_uri": "https://localhost:8080/"
        },
        "id": "5qUQ4pd-4M8z",
        "outputId": "0f915578-912c-4ed3-ebaa-5b2010e0f97d"
      },
      "source": [
        "# placeholders for a tensor that will be always fed.\n",
        "x1 = tf.placeholder(tf.float32)\n",
        "x2 = tf.placeholder(tf.float32)\n",
        "x3 = tf.placeholder(tf.float32)\n",
        "\n",
        "Y = tf.placeholder(tf.float32)\n",
        "\n",
        "print(x1)\n",
        "print(type(x1))"
      ],
      "execution_count": 66,
      "outputs": [
        {
          "output_type": "stream",
          "name": "stdout",
          "text": [
            "Tensor(\"Placeholder_12:0\", dtype=float32)\n",
            "<class 'tensorflow.python.framework.ops.Tensor'>\n"
          ]
        }
      ]
    },
    {
      "cell_type": "code",
      "metadata": {
        "id": "pNOP2C7-4Xbp"
      },
      "source": [
        "w1 = tf.Variable(tf.random_normal([1]), name='weight1')\n",
        "w2 = tf.Variable(tf.random_normal([1]), name='weight2')\n",
        "w3 = tf.Variable(tf.random_normal([1]), name='weight3')\n",
        "b = tf.Variable(tf.random_normal([1]), name='bias')"
      ],
      "execution_count": 67,
      "outputs": []
    },
    {
      "cell_type": "code",
      "metadata": {
        "colab": {
          "base_uri": "https://localhost:8080/"
        },
        "id": "7i5Us00962K9",
        "outputId": "c624667e-129c-4965-9cfb-5da61705313f"
      },
      "source": [
        "print(w1)\n",
        "print(w2)\n",
        "print(w3)\n",
        "print(b)"
      ],
      "execution_count": 68,
      "outputs": [
        {
          "output_type": "stream",
          "name": "stdout",
          "text": [
            "<tf.Variable 'weight1_2:0' shape=(1,) dtype=float32_ref>\n",
            "<tf.Variable 'weight2_2:0' shape=(1,) dtype=float32_ref>\n",
            "<tf.Variable 'weight3_2:0' shape=(1,) dtype=float32_ref>\n",
            "<tf.Variable 'bias_6:0' shape=(1,) dtype=float32_ref>\n"
          ]
        }
      ]
    },
    {
      "cell_type": "code",
      "metadata": {
        "id": "XhWlLGm34Qgi"
      },
      "source": [
        "hypothesis = x1 * w1 + x2 * w2 + x3 * w3 + b\n",
        "\n",
        "# cost/loss function\n",
        "cost = tf.reduce_mean(tf.square(hypothesis - Y))\n",
        "\n",
        "# Minimize. Need a very small learning rate for this data set\n",
        "optimizer = tf.train.GradientDescentOptimizer(learning_rate=1e-5)\n",
        "train = optimizer.minimize(cost)"
      ],
      "execution_count": 69,
      "outputs": []
    },
    {
      "cell_type": "code",
      "metadata": {
        "colab": {
          "base_uri": "https://localhost:8080/"
        },
        "id": "U7GrYvDS4VGK",
        "outputId": "b759ffd9-026b-4092-b01c-95224637f1d3"
      },
      "source": [
        "# Launch the graph in a session.\n",
        "sess = tf.Session()\n",
        "# Initializes global variables in the graph.\n",
        "sess.run(tf.global_variables_initializer())\n",
        "\n",
        "for step in range(4001):\n",
        "    cost_val, hy_val, _ = sess.run([cost, hypothesis, train],\n",
        "                                   feed_dict={x1: x1_data, x2: x2_data, x3: x3_data, Y: y_data})\n",
        "    if step % 50 == 0:\n",
        "        print(step, \"Cost: \", cost_val, \"\\nPrediction:\\n\", hy_val)"
      ],
      "execution_count": 70,
      "outputs": [
        {
          "output_type": "stream",
          "name": "stdout",
          "text": [
            "0 Cost:  184720.55 \n",
            "Prediction:\n",
            " [-235.18262 -270.36108 -272.8553  -294.08707 -205.95895]\n",
            "50 Cost:  9.83531 \n",
            "Prediction:\n",
            " [146.21513 187.94943 178.7788  197.72112 143.59973]\n",
            "100 Cost:  9.640656 \n",
            "Prediction:\n",
            " [146.2682  187.91342 178.79555 197.7294  143.55571]\n",
            "150 Cost:  9.451083 \n",
            "Prediction:\n",
            " [146.32057 187.87788 178.81207 197.73755 143.5123 ]\n",
            "200 Cost:  9.266405 \n",
            "Prediction:\n",
            " [146.37227 187.84282 178.8284  197.74554 143.46951]\n",
            "250 Cost:  9.086523 \n",
            "Prediction:\n",
            " [146.4233  187.80823 178.84451 197.7534  143.42732]\n",
            "300 Cost:  8.911287 \n",
            "Prediction:\n",
            " [146.47366 187.7741  178.86046 197.76114 143.38574]\n",
            "350 Cost:  8.740618 \n",
            "Prediction:\n",
            " [146.52335 187.74039 178.87616 197.7687  143.34473]\n",
            "400 Cost:  8.574358 \n",
            "Prediction:\n",
            " [146.57242 187.70718 178.89168 197.77614 143.30432]\n",
            "450 Cost:  8.412324 \n",
            "Prediction:\n",
            " [146.62083 187.67435 178.907   197.78342 143.26445]\n",
            "500 Cost:  8.254553 \n",
            "Prediction:\n",
            " [146.66861 187.64197 178.92212 197.79059 143.22516]\n",
            "550 Cost:  8.100832 \n",
            "Prediction:\n",
            " [146.71579 187.61005 178.93707 197.79764 143.18643]\n",
            "600 Cost:  7.951059 \n",
            "Prediction:\n",
            " [146.76233 187.5785  178.9518  197.80452 143.14821]\n",
            "650 Cost:  7.8051276 \n",
            "Prediction:\n",
            " [146.80827 187.54738 178.96635 197.81128 143.11055]\n",
            "700 Cost:  7.662964 \n",
            "Prediction:\n",
            " [146.85362 187.51668 178.98076 197.81792 143.07344]\n",
            "750 Cost:  7.5244455 \n",
            "Prediction:\n",
            " [146.89839 187.48637 178.99498 197.82445 143.03687]\n",
            "800 Cost:  7.389491 \n",
            "Prediction:\n",
            " [146.94257 187.45647 179.00897 197.83081 143.0008 ]\n",
            "850 Cost:  7.2580156 \n",
            "Prediction:\n",
            " [146.98618 187.42697 179.02283 197.8371  142.96523]\n",
            "900 Cost:  7.1298614 \n",
            "Prediction:\n",
            " [147.02922 187.39784 179.03648 197.84322 142.93016]\n",
            "950 Cost:  7.0050592 \n",
            "Prediction:\n",
            " [147.07169 187.3691  179.04999 197.84926 142.89561]\n",
            "1000 Cost:  6.8833747 \n",
            "Prediction:\n",
            " [147.11362 187.34071 179.06331 197.85515 142.86153]\n",
            "1050 Cost:  6.764862 \n",
            "Prediction:\n",
            " [147.155   187.31273 179.07646 197.86095 142.82796]\n",
            "1100 Cost:  6.64934 \n",
            "Prediction:\n",
            " [147.19585 187.28511 179.08946 197.86661 142.79485]\n",
            "1150 Cost:  6.536751 \n",
            "Prediction:\n",
            " [147.23618 187.25784 179.10231 197.87218 142.76222]\n",
            "1200 Cost:  6.427027 \n",
            "Prediction:\n",
            " [147.27597 187.23093 179.11497 197.87761 142.73004]\n",
            "1250 Cost:  6.320094 \n",
            "Prediction:\n",
            " [147.31526 187.20438 179.12749 197.88295 142.69832]\n",
            "1300 Cost:  6.2159047 \n",
            "Prediction:\n",
            " [147.35403 187.17816 179.13985 197.8882  142.66707]\n",
            "1350 Cost:  6.114339 \n",
            "Prediction:\n",
            " [147.3923  187.1523  179.15207 197.89331 142.63626]\n",
            "1400 Cost:  6.01533 \n",
            "Prediction:\n",
            " [147.43008 187.12675 179.1641  197.89832 142.60588]\n",
            "1450 Cost:  5.918834 \n",
            "Prediction:\n",
            " [147.46739 187.10158 179.17601 197.90324 142.57594]\n",
            "1500 Cost:  5.824768 \n",
            "Prediction:\n",
            " [147.50423 187.07674 179.18777 197.90807 142.54645]\n",
            "1550 Cost:  5.7330933 \n",
            "Prediction:\n",
            " [147.54054 187.05217 179.19939 197.91277 142.51735]\n",
            "1600 Cost:  5.643734 \n",
            "Prediction:\n",
            " [147.57642 187.02797 179.21083 197.91737 142.48868]\n",
            "1650 Cost:  5.556613 \n",
            "Prediction:\n",
            " [147.6118  187.00404 179.22214 197.92186 142.4604 ]\n",
            "1700 Cost:  5.4716563 \n",
            "Prediction:\n",
            " [147.64677 186.98047 179.23334 197.92628 142.43256]\n",
            "1750 Cost:  5.3888693 \n",
            "Prediction:\n",
            " [147.68126 186.95717 179.24437 197.9306  142.4051 ]\n",
            "1800 Cost:  5.3081083 \n",
            "Prediction:\n",
            " [147.71535 186.9342  179.2553  197.93484 142.37807]\n",
            "1850 Cost:  5.2293954 \n",
            "Prediction:\n",
            " [147.74896 186.91153 179.26607 197.93896 142.35138]\n",
            "1900 Cost:  5.152652 \n",
            "Prediction:\n",
            " [147.78214 186.88913 179.2767  197.943   142.32509]\n",
            "1950 Cost:  5.077816 \n",
            "Prediction:\n",
            " [147.81491 186.86705 179.28722 197.94696 142.2992 ]\n",
            "2000 Cost:  5.0048723 \n",
            "Prediction:\n",
            " [147.84723 186.84525 179.29758 197.9508  142.27365]\n",
            "2050 Cost:  4.933708 \n",
            "Prediction:\n",
            " [147.87917 186.82373 179.30783 197.95459 142.2485 ]\n",
            "2100 Cost:  4.8642983 \n",
            "Prediction:\n",
            " [147.9107  186.8025  179.31798 197.9583  142.22372]\n",
            "2150 Cost:  4.7966037 \n",
            "Prediction:\n",
            " [147.94182 186.78154 179.32799 197.96188 142.19926]\n",
            "2200 Cost:  4.7306085 \n",
            "Prediction:\n",
            " [147.97252 186.76085 179.33784 197.96538 142.17519]\n",
            "2250 Cost:  4.6662283 \n",
            "Prediction:\n",
            " [148.00284 186.74042 179.3476  197.96881 142.15144]\n",
            "2300 Cost:  4.6033936 \n",
            "Prediction:\n",
            " [148.03279 186.72026 179.35724 197.97215 142.12805]\n",
            "2350 Cost:  4.5421543 \n",
            "Prediction:\n",
            " [148.06235 186.70038 179.36679 197.97545 142.10501]\n",
            "2400 Cost:  4.4823737 \n",
            "Prediction:\n",
            " [148.09152 186.68073 179.37616 197.9786  142.08228]\n",
            "2450 Cost:  4.4240904 \n",
            "Prediction:\n",
            " [148.12033 186.66136 179.38548 197.98174 142.05992]\n",
            "2500 Cost:  4.367238 \n",
            "Prediction:\n",
            " [148.14876 186.64223 179.39464 197.98477 142.03784]\n",
            "2550 Cost:  4.3117557 \n",
            "Prediction:\n",
            " [148.17683 186.62335 179.4037  197.98773 142.01611]\n",
            "2600 Cost:  4.2576113 \n",
            "Prediction:\n",
            " [148.20454 186.6047  179.41266 197.9906  141.99469]\n",
            "2650 Cost:  4.204775 \n",
            "Prediction:\n",
            " [148.23192 186.58632 179.42151 197.99341 141.97359]\n",
            "2700 Cost:  4.153227 \n",
            "Prediction:\n",
            " [148.25893 186.56816 179.43024 197.99612 141.95277]\n",
            "2750 Cost:  4.102925 \n",
            "Prediction:\n",
            " [148.2856  186.55023 179.43887 197.9988  141.93228]\n",
            "2800 Cost:  4.053839 \n",
            "Prediction:\n",
            " [148.31194 186.53256 179.44742 198.00139 141.91211]\n",
            "2850 Cost:  4.0059195 \n",
            "Prediction:\n",
            " [148.33794 186.51509 179.45583 198.0039  141.8922 ]\n",
            "2900 Cost:  3.9591584 \n",
            "Prediction:\n",
            " [148.3636  186.49785 179.46416 198.00636 141.8726 ]\n",
            "2950 Cost:  3.913509 \n",
            "Prediction:\n",
            " [148.38893 186.48082 179.47238 198.00873 141.85327]\n",
            "3000 Cost:  3.8689194 \n",
            "Prediction:\n",
            " [148.41399 186.46404 179.48051 198.01106 141.83427]\n",
            "3050 Cost:  3.825431 \n",
            "Prediction:\n",
            " [148.43867 186.44746 179.48854 198.01329 141.8155 ]\n",
            "3100 Cost:  3.78295 \n",
            "Prediction:\n",
            " [148.46307 186.43109 179.49646 198.01547 141.79703]\n",
            "3150 Cost:  3.7415004 \n",
            "Prediction:\n",
            " [148.48715 186.41495 179.50429 198.0176  141.77884]\n",
            "3200 Cost:  3.7009938 \n",
            "Prediction:\n",
            " [148.51094 186.39899 179.51204 198.01965 141.76091]\n",
            "3250 Cost:  3.6614819 \n",
            "Prediction:\n",
            " [148.53441 186.38326 179.5197  198.02165 141.74324]\n",
            "3300 Cost:  3.6228614 \n",
            "Prediction:\n",
            " [148.5576  186.36774 179.52725 198.02357 141.72586]\n",
            "3350 Cost:  3.5851378 \n",
            "Prediction:\n",
            " [148.5805  186.35239 179.53471 198.02545 141.70871]\n",
            "3400 Cost:  3.5483086 \n",
            "Prediction:\n",
            " [148.6031  186.33725 179.5421  198.02725 141.69182]\n",
            "3450 Cost:  3.5123494 \n",
            "Prediction:\n",
            " [148.62543 186.32233 179.54941 198.02902 141.6752 ]\n",
            "3500 Cost:  3.4772015 \n",
            "Prediction:\n",
            " [148.64745 186.30754 179.55658 198.03069 141.6588 ]\n",
            "3550 Cost:  3.4428413 \n",
            "Prediction:\n",
            " [148.66924 186.29298 179.56372 198.03233 141.64267]\n",
            "3600 Cost:  3.409315 \n",
            "Prediction:\n",
            " [148.69072 186.27861 179.57076 198.03392 141.62675]\n",
            "3650 Cost:  3.3765457 \n",
            "Prediction:\n",
            " [148.71194 186.26443 179.5777  198.03545 141.6111 ]\n",
            "3700 Cost:  3.3445134 \n",
            "Prediction:\n",
            " [148.73288 186.2504  179.58458 198.0369  141.59567]\n",
            "3750 Cost:  3.3132071 \n",
            "Prediction:\n",
            " [148.75359 186.23657 179.59137 198.03831 141.58046]\n",
            "3800 Cost:  3.2826176 \n",
            "Prediction:\n",
            " [148.77402 186.22292 179.59807 198.03967 141.5655 ]\n",
            "3850 Cost:  3.2527194 \n",
            "Prediction:\n",
            " [148.79419 186.20944 179.6047  198.04097 141.55077]\n",
            "3900 Cost:  3.223479 \n",
            "Prediction:\n",
            " [148.81413 186.19614 179.61127 198.04224 141.53625]\n",
            "3950 Cost:  3.1949234 \n",
            "Prediction:\n",
            " [148.8338  186.183   179.61772 198.04344 141.52196]\n",
            "4000 Cost:  3.1669767 \n",
            "Prediction:\n",
            " [148.85324 186.17004 179.62415 198.04459 141.50787]\n"
          ]
        }
      ]
    },
    {
      "cell_type": "markdown",
      "metadata": {
        "id": "1PTc42yq4ciq"
      },
      "source": [
        "# Logisitic classification"
      ]
    },
    {
      "cell_type": "code",
      "metadata": {
        "id": "3-ggKw404aA6"
      },
      "source": [
        "x_data = [[1, 2],\n",
        "          [2, 3],\n",
        "          [3, 1],\n",
        "          [4, 3],\n",
        "          [5, 3],\n",
        "          [6, 2]]\n",
        "y_data = [[0],\n",
        "          [0],\n",
        "          [0],\n",
        "          [1],\n",
        "          [1],\n",
        "          [1]]"
      ],
      "execution_count": 71,
      "outputs": []
    },
    {
      "cell_type": "code",
      "metadata": {
        "colab": {
          "base_uri": "https://localhost:8080/"
        },
        "id": "tmExkEix4grc",
        "outputId": "d7e2e902-74ce-4a9d-957e-1050aee688b2"
      },
      "source": [
        "import numpy as np\n",
        "\n",
        "np_x=np.array(x_data)\n",
        "print(\"x_data shape: \", np_x.shape)\n",
        "np_y=np.array(y_data)\n",
        "print(\"y_data shape: \", np_y.shape)"
      ],
      "execution_count": 72,
      "outputs": [
        {
          "output_type": "stream",
          "name": "stdout",
          "text": [
            "x_data shape:  (6, 2)\n",
            "y_data shape:  (6, 1)\n"
          ]
        }
      ]
    },
    {
      "cell_type": "code",
      "metadata": {
        "id": "ME7AwKXe4lYk"
      },
      "source": [
        "# placeholders for a tensor that will be always fed.\n",
        "X = tf.placeholder(tf.float32, shape=[None, 2])\n",
        "Y = tf.placeholder(tf.float32, shape=[None, 1])"
      ],
      "execution_count": 73,
      "outputs": []
    },
    {
      "cell_type": "code",
      "metadata": {
        "colab": {
          "base_uri": "https://localhost:8080/"
        },
        "id": "92W8VL054y2C",
        "outputId": "652091c6-c64d-42a4-ae4b-bb11bf5e30d9"
      },
      "source": [
        "print(X)\n",
        "print(Y)"
      ],
      "execution_count": 74,
      "outputs": [
        {
          "output_type": "stream",
          "name": "stdout",
          "text": [
            "Tensor(\"Placeholder_16:0\", shape=(?, 2), dtype=float32)\n",
            "Tensor(\"Placeholder_17:0\", shape=(?, 1), dtype=float32)\n"
          ]
        }
      ]
    },
    {
      "cell_type": "code",
      "metadata": {
        "id": "zRHYgPnA45JT"
      },
      "source": [
        "W = tf.Variable(tf.random_normal([2, 1]), name='weight')\n",
        "b = tf.Variable(tf.random_normal([1]), name='bias')"
      ],
      "execution_count": 75,
      "outputs": []
    },
    {
      "cell_type": "code",
      "metadata": {
        "id": "96l_QyAr4-s8"
      },
      "source": [
        "# Hypothesis using sigmoid: tf.div(1., 1. + tf.exp(tf.matmul(X, W)))\n",
        "hypothesis = tf.sigmoid(tf.matmul(X, W) + b)"
      ],
      "execution_count": 76,
      "outputs": []
    },
    {
      "cell_type": "code",
      "metadata": {
        "colab": {
          "base_uri": "https://localhost:8080/"
        },
        "id": "k_-OnIKX4_-O",
        "outputId": "1585199f-2f09-40f5-edd8-b7322e55b75d"
      },
      "source": [
        "print(hypothesis)"
      ],
      "execution_count": 77,
      "outputs": [
        {
          "output_type": "stream",
          "name": "stdout",
          "text": [
            "Tensor(\"Sigmoid_1:0\", shape=(?, 1), dtype=float32)\n"
          ]
        }
      ]
    },
    {
      "cell_type": "code",
      "metadata": {
        "id": "en6OmexE5CDy"
      },
      "source": [
        "# cost/loss function\n",
        "cost = -tf.reduce_mean(Y * tf.log(hypothesis) + (1 - Y) * tf.log(1 - hypothesis))"
      ],
      "execution_count": 78,
      "outputs": []
    },
    {
      "cell_type": "code",
      "metadata": {
        "colab": {
          "base_uri": "https://localhost:8080/"
        },
        "id": "eclniZl25Cv0",
        "outputId": "2f33a719-7abd-4727-9920-353b0e4a33eb"
      },
      "source": [
        "train = tf.train.GradientDescentOptimizer(learning_rate=0.01).minimize(cost)\n",
        "print(train)"
      ],
      "execution_count": 79,
      "outputs": [
        {
          "output_type": "stream",
          "name": "stdout",
          "text": [
            "name: \"GradientDescent_6\"\n",
            "op: \"NoOp\"\n",
            "input: \"^GradientDescent_6/update_weight_4/ApplyGradientDescent\"\n",
            "input: \"^GradientDescent_6/update_bias_7/ApplyGradientDescent\"\n",
            "\n"
          ]
        }
      ]
    },
    {
      "cell_type": "code",
      "metadata": {
        "colab": {
          "base_uri": "https://localhost:8080/"
        },
        "id": "RPDP67575GWy",
        "outputId": "7f991d8f-7c8d-4c9f-f815-af59f51d00bd"
      },
      "source": [
        "# Accuracy computation\n",
        "# True if hypothesis>0.5 else False\n",
        "predicted = tf.cast(hypothesis > 0.5, dtype=tf.float32)\n",
        "accuracy = tf.reduce_mean(tf.cast(tf.equal(predicted, Y), dtype=tf.float32))\n",
        "\n",
        "print(predicted)\n",
        "print(accuracy)"
      ],
      "execution_count": 80,
      "outputs": [
        {
          "output_type": "stream",
          "name": "stdout",
          "text": [
            "Tensor(\"Cast_2:0\", shape=(?, 1), dtype=float32)\n",
            "Tensor(\"Mean_8:0\", shape=(), dtype=float32)\n"
          ]
        }
      ]
    },
    {
      "cell_type": "code",
      "metadata": {
        "colab": {
          "base_uri": "https://localhost:8080/"
        },
        "id": "5J6r7gz35NF3",
        "outputId": "83d870f5-77bb-4b5c-e4c3-72a2c1e85094"
      },
      "source": [
        "# Launch graph\n",
        "with tf.Session() as sess:\n",
        "    # Initialize TensorFlow variables\n",
        "    sess.run(tf.global_variables_initializer())\n",
        "\n",
        "    for step in range(10001):\n",
        "        cost_val, _ = sess.run([cost, train], feed_dict={X: x_data, Y: y_data})\n",
        "        if step % 200 == 0:\n",
        "            print(step, cost_val)\n",
        "\n",
        "    # Accuracy report\n",
        "    h, c, a = sess.run([hypothesis, predicted, accuracy],\n",
        "                       feed_dict={X: x_data, Y: y_data})\n",
        "    print(\"\\nHypothesis: \\n\", h, \"\\nCorrect (Y): \\n\", c, \"\\nAccuracy: \\n\", a)"
      ],
      "execution_count": 81,
      "outputs": [
        {
          "output_type": "stream",
          "name": "stdout",
          "text": [
            "0 2.3877084\n",
            "200 0.6711727\n",
            "400 0.5587769\n",
            "600 0.50548136\n",
            "800 0.4737152\n",
            "1000 0.45091328\n",
            "1200 0.4324238\n",
            "1400 0.41631794\n",
            "1600 0.4017177\n",
            "1800 0.38819143\n",
            "2000 0.37551078\n",
            "2200 0.36354515\n",
            "2400 0.35221305\n",
            "2600 0.3414587\n",
            "2800 0.33123967\n",
            "3000 0.3215213\n",
            "3200 0.3122734\n",
            "3400 0.30346873\n",
            "3600 0.29508182\n",
            "3800 0.28708908\n",
            "4000 0.2794684\n",
            "4200 0.27219868\n",
            "4400 0.26525998\n",
            "4600 0.2586336\n",
            "4800 0.25230196\n",
            "5000 0.24624841\n",
            "5200 0.24045722\n",
            "5400 0.2349137\n",
            "5600 0.22960402\n",
            "5800 0.22451533\n",
            "6000 0.21963541\n",
            "6200 0.21495277\n",
            "6400 0.21045677\n",
            "6600 0.20613746\n",
            "6800 0.2019854\n",
            "7000 0.19799167\n",
            "7200 0.19414811\n",
            "7400 0.1904469\n",
            "7600 0.18688078\n",
            "7800 0.1834429\n",
            "8000 0.18012692\n",
            "8200 0.17692673\n",
            "8400 0.17383671\n",
            "8600 0.17085148\n",
            "8800 0.16796614\n",
            "9000 0.16517588\n",
            "9200 0.16247623\n",
            "9400 0.15986317\n",
            "9600 0.15733254\n",
            "9800 0.15488079\n",
            "10000 0.1525043\n",
            "\n",
            "Hypothesis: \n",
            " [[0.03201613]\n",
            " [0.16054088]\n",
            " [0.31091398]\n",
            " [0.77863324]\n",
            " [0.93782926]\n",
            " [0.9795847 ]] \n",
            "Correct (Y): \n",
            " [[0.]\n",
            " [0.]\n",
            " [0.]\n",
            " [1.]\n",
            " [1.]\n",
            " [1.]] \n",
            "Accuracy: \n",
            " 1.0\n"
          ]
        }
      ]
    },
    {
      "cell_type": "markdown",
      "metadata": {
        "id": "v25KzsGu5Y5M"
      },
      "source": [
        "# softmax classification"
      ]
    },
    {
      "cell_type": "code",
      "metadata": {
        "id": "JM5SNwxV5Slm"
      },
      "source": [
        "x_data = [[1, 2, 1, 1],\n",
        "          [2, 1, 3, 2],\n",
        "          [3, 1, 3, 4],\n",
        "          [4, 1, 5, 5],\n",
        "          [1, 7, 5, 5],\n",
        "          [1, 2, 5, 6],\n",
        "          [1, 6, 6, 6],\n",
        "          [1, 7, 7, 7]]\n",
        "y_data = [[0, 0, 1],\n",
        "          [0, 0, 1],\n",
        "          [0, 0, 1],\n",
        "          [0, 1, 0],\n",
        "          [0, 1, 0],\n",
        "          [0, 1, 0],\n",
        "          [1, 0, 0],\n",
        "          [1, 0, 0]]"
      ],
      "execution_count": 82,
      "outputs": []
    },
    {
      "cell_type": "code",
      "metadata": {
        "colab": {
          "base_uri": "https://localhost:8080/"
        },
        "id": "hstEvM435b4J",
        "outputId": "1e3dd898-30b3-4168-b6c0-6389710f93ce"
      },
      "source": [
        "np_x=np.array(x_data)\n",
        "np_y=np.array(y_data)\n",
        "\n",
        "print(np_x.shape)\n",
        "print(np_y.shape)"
      ],
      "execution_count": 83,
      "outputs": [
        {
          "output_type": "stream",
          "name": "stdout",
          "text": [
            "(8, 4)\n",
            "(8, 3)\n"
          ]
        }
      ]
    },
    {
      "cell_type": "code",
      "metadata": {
        "colab": {
          "base_uri": "https://localhost:8080/"
        },
        "id": "Sc23yQVn5iPf",
        "outputId": "dbf0a5b6-535d-4236-b885-112e36cfc994"
      },
      "source": [
        "X = tf.placeholder(\"float\", [None, 4])\n",
        "Y = tf.placeholder(\"float\", [None, 3])\n",
        "nb_classes = 3\n",
        "\n",
        "print(X)\n",
        "print(Y)\n",
        "print(nb_classes)"
      ],
      "execution_count": 84,
      "outputs": [
        {
          "output_type": "stream",
          "name": "stdout",
          "text": [
            "Tensor(\"Placeholder_18:0\", shape=(?, 4), dtype=float32)\n",
            "Tensor(\"Placeholder_19:0\", shape=(?, 3), dtype=float32)\n",
            "3\n"
          ]
        }
      ]
    },
    {
      "cell_type": "code",
      "metadata": {
        "colab": {
          "base_uri": "https://localhost:8080/"
        },
        "id": "fvBm8Cn-5pyA",
        "outputId": "3662805a-8273-417b-a53a-ac6ec8dae789"
      },
      "source": [
        "W = tf.Variable(tf.random_normal([4, nb_classes]), name='weight')\n",
        "b = tf.Variable(tf.random_normal([nb_classes]), name='bias')\n",
        "\n",
        "print(W)\n",
        "print(b)"
      ],
      "execution_count": 85,
      "outputs": [
        {
          "output_type": "stream",
          "name": "stdout",
          "text": [
            "<tf.Variable 'weight_5:0' shape=(4, 3) dtype=float32_ref>\n",
            "<tf.Variable 'bias_8:0' shape=(3,) dtype=float32_ref>\n"
          ]
        }
      ]
    },
    {
      "cell_type": "code",
      "metadata": {
        "colab": {
          "base_uri": "https://localhost:8080/"
        },
        "id": "-fLDtpiL5tvN",
        "outputId": "7ab24221-29cf-4bdb-b4a1-b7545bbbc7c0"
      },
      "source": [
        "# tf.nn.softmax computes softmax activations\n",
        "# softmax = exp(logits) / reduce_sum(exp(logits), dim)\n",
        "hypothesis = tf.nn.softmax(tf.matmul(X, W) + b)\n",
        "\n",
        "print(hypothesis)"
      ],
      "execution_count": 86,
      "outputs": [
        {
          "output_type": "stream",
          "name": "stdout",
          "text": [
            "Tensor(\"Softmax_1:0\", shape=(?, 3), dtype=float32)\n"
          ]
        }
      ]
    },
    {
      "cell_type": "code",
      "metadata": {
        "colab": {
          "base_uri": "https://localhost:8080/"
        },
        "id": "Xnz7chM45xDG",
        "outputId": "5a514fb5-2dd4-45fc-9871-8c055d376a7b"
      },
      "source": [
        "# Cross entropy cost/loss\n",
        "cost = tf.reduce_mean(-tf.reduce_sum(Y * tf.log(hypothesis), axis=1))\n",
        "optimizer = tf.train.GradientDescentOptimizer(learning_rate=0.1).minimize(cost)\n",
        "\n",
        "print(cost)\n",
        "print(optimizer)"
      ],
      "execution_count": 87,
      "outputs": [
        {
          "output_type": "stream",
          "name": "stdout",
          "text": [
            "Tensor(\"Mean_9:0\", shape=(), dtype=float32)\n",
            "name: \"GradientDescent_7\"\n",
            "op: \"NoOp\"\n",
            "input: \"^GradientDescent_7/update_weight_5/ApplyGradientDescent\"\n",
            "input: \"^GradientDescent_7/update_bias_8/ApplyGradientDescent\"\n",
            "\n"
          ]
        }
      ]
    },
    {
      "cell_type": "code",
      "metadata": {
        "colab": {
          "base_uri": "https://localhost:8080/"
        },
        "id": "EReVtr7e50qP",
        "outputId": "dc4f2160-e938-43f0-80d4-44d8403c1d4d"
      },
      "source": [
        "# Launch graph\n",
        "with tf.Session() as sess:\n",
        "    sess.run(tf.global_variables_initializer())\n",
        "\n",
        "    for step in range(3001):\n",
        "            _, cost_val = sess.run([optimizer, cost], feed_dict={X: x_data, Y: y_data})\n",
        "\n",
        "            if step % 200 == 0:\n",
        "                print(step, cost_val)\n",
        "\n",
        "    print('--------------')\n",
        "    # Testing & One-hot encoding\n",
        "    a = sess.run(hypothesis, feed_dict={X: [[1, 11, 7, 9]]})\n",
        "    print(a, sess.run(tf.argmax(a, 1)))\n",
        "\n",
        "    print('--------------')\n",
        "    b = sess.run(hypothesis, feed_dict={X: [[1, 3, 4, 3]]})\n",
        "    print(b, sess.run(tf.argmax(b, 1)))\n",
        "\n",
        "    print('--------------')\n",
        "    c = sess.run(hypothesis, feed_dict={X: [[1, 1, 0, 1]]})\n",
        "    print(c, sess.run(tf.argmax(c, 1)))\n",
        "\n",
        "    print('--------------')\n",
        "    all = sess.run(hypothesis, feed_dict={X: [[1, 11, 7, 9], [1, 3, 4, 3], [1, 1, 0, 1]]})\n",
        "    print(all, sess.run(tf.argmax(all, 1)))"
      ],
      "execution_count": 88,
      "outputs": [
        {
          "output_type": "stream",
          "name": "stdout",
          "text": [
            "0 8.033653\n",
            "200 0.597852\n",
            "400 0.48521376\n",
            "600 0.38766763\n",
            "800 0.29535112\n",
            "1000 0.24244502\n",
            "1200 0.21907765\n",
            "1400 0.19975376\n",
            "1600 0.18348299\n",
            "1800 0.1695908\n",
            "2000 0.15759382\n",
            "2200 0.14713283\n",
            "2400 0.13793463\n",
            "2600 0.12978683\n",
            "2800 0.12252177\n",
            "3000 0.11600567\n",
            "--------------\n",
            "[[1.7604638e-03 9.9823761e-01 1.9033653e-06]] [1]\n",
            "--------------\n",
            "[[0.89419657 0.10117535 0.00462812]] [0]\n",
            "--------------\n",
            "[[2.3672031e-10 7.1662151e-05 9.9992836e-01]] [2]\n",
            "--------------\n",
            "[[1.7604638e-03 9.9823761e-01 1.9033653e-06]\n",
            " [8.9419657e-01 1.0117535e-01 4.6281200e-03]\n",
            " [2.3672031e-10 7.1662158e-05 9.9992836e-01]] [1 0 2]\n"
          ]
        }
      ]
    }
  ]
}