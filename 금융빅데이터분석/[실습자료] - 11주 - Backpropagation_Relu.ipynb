{
 "cells": [
  {
   "cell_type": "markdown",
   "metadata": {},
   "source": [
    "## XOR - NN"
   ]
  },
  {
   "cell_type": "code",
   "execution_count": null,
   "metadata": {},
   "outputs": [],
   "source": [
    "# XOR - NN\n",
    "import tensorflow as tf\n",
    "import numpy as np"
   ]
  },
  {
   "cell_type": "code",
   "execution_count": null,
   "metadata": {},
   "outputs": [],
   "source": [
    "x_data = np.array([[0, 0], [0, 1], [1, 0], [1, 1]], dtype=np.float32)\n",
    "y_data = np.array([[0], [1], [1], [0]], dtype=np.float32)"
   ]
  },
  {
   "cell_type": "code",
   "execution_count": null,
   "metadata": {},
   "outputs": [],
   "source": [
    "X = tf.placeholder(tf.float32, [None, 2])\n",
    "Y = tf.placeholder(tf.float32, [None, 1])"
   ]
  },
  {
   "cell_type": "code",
   "execution_count": null,
   "metadata": {},
   "outputs": [],
   "source": [
    "# ===== weights & bias for nn layers ===== \n",
    "W1 = tf.Variable(tf.random_uniform([2, 5], -1.0, 1.0), name='weight1')\n",
    "W2 = tf.Variable(tf.random_uniform([5, 5], -1.0, 1.0), name='weight2')\n",
    "W3 = tf.Variable(tf.random_uniform([5, 1], -1.0, 1.0), name='weight3')\n",
    "\n",
    "b1 = tf.Variable(tf.random_normal([5]), name='bias1')\n",
    "b2 = tf.Variable(tf.random_normal([5]), name='bias2')\n",
    "b3 = tf.Variable(tf.random_normal([1]), name='bias3')\n",
    "\n",
    "layer1 = tf.sigmoid(tf.matmul(X, W1) + b1)\n",
    "layer2 = tf.sigmoid(tf.matmul(layer1, W2) + b2)\n",
    "hypothesis = tf.sigmoid(tf.matmul(layer2, W3) + b3)\n"
   ]
  },
  {
   "cell_type": "code",
   "execution_count": null,
   "metadata": {},
   "outputs": [],
   "source": [
    "# cost/loss function\n",
    "cost = -tf.reduce_mean(Y * tf.log(hypothesis) + (1 - Y) * tf.log(1 - hypothesis))\n",
    "train = tf.train.GradientDescentOptimizer(learning_rate=0.1).minimize(cost)"
   ]
  },
  {
   "cell_type": "code",
   "execution_count": null,
   "metadata": {},
   "outputs": [],
   "source": [
    "# Accuracy computation\n",
    "# True if hypothesis>0.5 else False\n",
    "predicted = tf.cast(hypothesis > 0.5, dtype=tf.float32)\n",
    "accuracy = tf.reduce_mean(tf.cast(tf.equal(predicted, Y), dtype=tf.float32))"
   ]
  },
  {
   "cell_type": "code",
   "execution_count": null,
   "metadata": {},
   "outputs": [],
   "source": [
    "# Launch graph\n",
    "with tf.Session() as sess:\n",
    "    # Initialize TensorFlow variables\n",
    "    sess.run(tf.global_variables_initializer())\n",
    "\n",
    "    for step in range(10001):\n",
    "        _, cost_val = sess.run([train, cost], feed_dict={X: x_data, Y: y_data})\n",
    "        if step % 100 == 0:\n",
    "            print(step, cost_val)\n",
    "\n",
    "    # Accuracy report\n",
    "    h, c, a = sess.run(\n",
    "        [hypothesis, predicted, accuracy], feed_dict={X: x_data, Y: y_data}\n",
    "    )\n",
    "    print(\"\\nHypothesis: \", h, \"\\nCorrect: \", c, \"\\nAccuracy: \", a)"
   ]
  },
  {
   "cell_type": "code",
   "execution_count": null,
   "metadata": {},
   "outputs": [],
   "source": []
  },
  {
   "cell_type": "code",
   "execution_count": null,
   "metadata": {},
   "outputs": [],
   "source": []
  },
  {
   "cell_type": "code",
   "execution_count": null,
   "metadata": {},
   "outputs": [],
   "source": []
  },
  {
   "cell_type": "markdown",
   "metadata": {},
   "source": [
    "## Vanishing gradient in Backpropagation"
   ]
  },
  {
   "cell_type": "code",
   "execution_count": null,
   "metadata": {},
   "outputs": [],
   "source": [
    "# XOR - Vanishing gradient in Backpropagation\n",
    "import tensorflow as tf\n",
    "import numpy as np"
   ]
  },
  {
   "cell_type": "code",
   "execution_count": null,
   "metadata": {},
   "outputs": [],
   "source": [
    "x_data = np.array([[0, 0], [0, 1], [1, 0], [1, 1]], dtype=np.float32)\n",
    "y_data = np.array([[0], [1], [1], [0]], dtype=np.float32)"
   ]
  },
  {
   "cell_type": "code",
   "execution_count": null,
   "metadata": {},
   "outputs": [],
   "source": [
    "X = tf.placeholder(tf.float32, [None, 2])\n",
    "Y = tf.placeholder(tf.float32, [None, 1])"
   ]
  },
  {
   "cell_type": "code",
   "execution_count": null,
   "metadata": {},
   "outputs": [],
   "source": [
    "# ===== weights & bias for very deep nn layers ===== \n",
    "W1 = tf.Variable(tf.random_uniform([2, 5], -1.0, 1.0), name='weight1')\n",
    "W2 = tf.Variable(tf.random_uniform([5, 5], -1.0, 1.0), name='weight2')\n",
    "W3 = tf.Variable(tf.random_uniform([5, 5], -1.0, 1.0), name='weight3')\n",
    "W4 = tf.Variable(tf.random_uniform([5, 5], -1.0, 1.0), name='weight4')\n",
    "W5 = tf.Variable(tf.random_uniform([5, 5], -1.0, 1.0), name='weight5')\n",
    "W6 = tf.Variable(tf.random_uniform([5, 5], -1.0, 1.0), name='weight6')\n",
    "W7 = tf.Variable(tf.random_uniform([5, 5], -1.0, 1.0), name='weight7')\n",
    "W8 = tf.Variable(tf.random_uniform([5, 5], -1.0, 1.0), name='weight8')\n",
    "W9 = tf.Variable(tf.random_uniform([5, 5], -1.0, 1.0), name='weight9')\n",
    "W10 = tf.Variable(tf.random_uniform([5, 5], -1.0, 1.0), name='weight10')\n",
    "W11 = tf.Variable(tf.random_uniform([5, 5], -1.0, 1.0), name='weight11')\n",
    "W12 = tf.Variable(tf.random_uniform([5, 5], -1.0, 1.0), name='weight12')\n",
    "W13 = tf.Variable(tf.random_uniform([5, 5], -1.0, 1.0), name='weight13')\n",
    "W14 = tf.Variable(tf.random_uniform([5, 5], -1.0, 1.0), name='weight14')\n",
    "W15 = tf.Variable(tf.random_uniform([5, 5], -1.0, 1.0), name='weight15')\n",
    "W16 = tf.Variable(tf.random_uniform([5, 1], -1.0, 1.0), name='weight16')\n",
    "\n",
    "b1 = tf.Variable(tf.random_normal([5]), name='bias1')\n",
    "b2 = tf.Variable(tf.random_normal([5]), name='bias2')\n",
    "b3 = tf.Variable(tf.random_normal([5]), name='bias3')\n",
    "b4 = tf.Variable(tf.random_normal([5]), name='bias4')\n",
    "b5 = tf.Variable(tf.random_normal([5]), name='bias5')\n",
    "b6 = tf.Variable(tf.random_normal([5]), name='bias6')\n",
    "b7 = tf.Variable(tf.random_normal([5]), name='bias7')\n",
    "b8 = tf.Variable(tf.random_normal([5]), name='bias8')\n",
    "b9 = tf.Variable(tf.random_normal([5]), name='bias9')\n",
    "b10 = tf.Variable(tf.random_normal([5]), name='bias10')\n",
    "b11 = tf.Variable(tf.random_normal([5]), name='bias11')\n",
    "b12 = tf.Variable(tf.random_normal([5]), name='bias12')\n",
    "b13 = tf.Variable(tf.random_normal([5]), name='bias13')\n",
    "b14 = tf.Variable(tf.random_normal([5]), name='bias14')\n",
    "b15 = tf.Variable(tf.random_normal([5]), name='bias15')\n",
    "b16 = tf.Variable(tf.random_normal([1]), name='bias16')\n",
    "\n",
    "layer1 = tf.sigmoid(tf.matmul(X, W1) + b1)\n",
    "layer2 = tf.sigmoid(tf.matmul(layer1, W2) + b2)\n",
    "layer3 = tf.sigmoid(tf.matmul(layer2, W3) + b3)\n",
    "layer4 = tf.sigmoid(tf.matmul(layer3, W4) + b4)\n",
    "layer5 = tf.sigmoid(tf.matmul(layer4, W5) + b5)\n",
    "layer6 = tf.sigmoid(tf.matmul(layer5, W6) + b6)\n",
    "layer7 = tf.sigmoid(tf.matmul(layer6, W7) + b7)\n",
    "layer8 = tf.sigmoid(tf.matmul(layer7, W8) + b8)\n",
    "layer9 = tf.sigmoid(tf.matmul(layer8, W9) + b9)\n",
    "layer10 = tf.sigmoid(tf.matmul(layer9, W10) + b10)\n",
    "layer11 = tf.sigmoid(tf.matmul(layer9, W11) + b11)\n",
    "layer12 = tf.sigmoid(tf.matmul(layer9, W12) + b12)\n",
    "layer13 = tf.sigmoid(tf.matmul(layer9, W13) + b13)\n",
    "layer14 = tf.sigmoid(tf.matmul(layer9, W14) + b14)\n",
    "layer15 = tf.sigmoid(tf.matmul(layer9, W15) + b15)\n",
    "\n",
    "hypothesis = tf.sigmoid(tf.matmul(layer15, W16) + b16)"
   ]
  },
  {
   "cell_type": "code",
   "execution_count": null,
   "metadata": {},
   "outputs": [],
   "source": [
    "# cost/loss function\n",
    "cost = -tf.reduce_mean(Y * tf.log(hypothesis) + (1 - Y) * tf.log(1 - hypothesis))\n",
    "train = tf.train.GradientDescentOptimizer(learning_rate=0.1).minimize(cost)"
   ]
  },
  {
   "cell_type": "code",
   "execution_count": null,
   "metadata": {},
   "outputs": [],
   "source": [
    "# Accuracy computation\n",
    "# True if hypothesis>0.5 else False\n",
    "predicted = tf.cast(hypothesis > 0.5, dtype=tf.float32)\n",
    "accuracy = tf.reduce_mean(tf.cast(tf.equal(predicted, Y), dtype=tf.float32))"
   ]
  },
  {
   "cell_type": "code",
   "execution_count": null,
   "metadata": {},
   "outputs": [],
   "source": [
    "# Launch graph\n",
    "with tf.Session() as sess:\n",
    "    # Initialize TensorFlow variables\n",
    "    sess.run(tf.global_variables_initializer())\n",
    "\n",
    "    for step in range(10001):\n",
    "        _, cost_val = sess.run([train, cost], feed_dict={X: x_data, Y: y_data})\n",
    "        if step % 100 == 0:\n",
    "            print(step, cost_val)\n",
    "\n",
    "    # Accuracy report\n",
    "    h, c, a = sess.run(\n",
    "        [hypothesis, predicted, accuracy], feed_dict={X: x_data, Y: y_data}\n",
    "    )\n",
    "    print(\"\\nHypothesis: \", h, \"\\nCorrect: \", c, \"\\nAccuracy: \", a)"
   ]
  },
  {
   "cell_type": "code",
   "execution_count": null,
   "metadata": {},
   "outputs": [],
   "source": []
  },
  {
   "cell_type": "code",
   "execution_count": null,
   "metadata": {},
   "outputs": [],
   "source": []
  },
  {
   "cell_type": "markdown",
   "metadata": {},
   "source": [
    "## very deep nn layers - leaky ReLU"
   ]
  },
  {
   "cell_type": "code",
   "execution_count": null,
   "metadata": {},
   "outputs": [],
   "source": [
    "# XOR - very deep nn layers - leaky ReLU\n",
    "import tensorflow as tf\n",
    "import numpy as np"
   ]
  },
  {
   "cell_type": "code",
   "execution_count": null,
   "metadata": {},
   "outputs": [],
   "source": [
    "x_data = np.array([[0, 0], [0, 1], [1, 0], [1, 1]], dtype=np.float32)\n",
    "y_data = np.array([[0], [1], [1], [0]], dtype=np.float32)"
   ]
  },
  {
   "cell_type": "code",
   "execution_count": null,
   "metadata": {},
   "outputs": [],
   "source": [
    "X = tf.placeholder(tf.float32, [None, 2])\n",
    "Y = tf.placeholder(tf.float32, [None, 1])"
   ]
  },
  {
   "cell_type": "code",
   "execution_count": null,
   "metadata": {},
   "outputs": [],
   "source": [
    "# ===== weights & bias for very deep nn layers - leaky ReLU ===== \n",
    "W1 = tf.Variable(tf.random_uniform([2, 5], -1.0, 1.0), name='weight1')\n",
    "W2 = tf.Variable(tf.random_uniform([5, 5], -1.0, 1.0), name='weight2')\n",
    "W3 = tf.Variable(tf.random_uniform([5, 5], -1.0, 1.0), name='weight3')\n",
    "W4 = tf.Variable(tf.random_uniform([5, 5], -1.0, 1.0), name='weight4')\n",
    "W5 = tf.Variable(tf.random_uniform([5, 5], -1.0, 1.0), name='weight5')\n",
    "W6 = tf.Variable(tf.random_uniform([5, 5], -1.0, 1.0), name='weight6')\n",
    "W7 = tf.Variable(tf.random_uniform([5, 5], -1.0, 1.0), name='weight7')\n",
    "W8 = tf.Variable(tf.random_uniform([5, 5], -1.0, 1.0), name='weight8')\n",
    "W9 = tf.Variable(tf.random_uniform([5, 5], -1.0, 1.0), name='weight9')\n",
    "W10 = tf.Variable(tf.random_uniform([5, 5], -1.0, 1.0), name='weight10')\n",
    "W11 = tf.Variable(tf.random_uniform([5, 5], -1.0, 1.0), name='weight11')\n",
    "W12 = tf.Variable(tf.random_uniform([5, 5], -1.0, 1.0), name='weight12')\n",
    "W13 = tf.Variable(tf.random_uniform([5, 5], -1.0, 1.0), name='weight13')\n",
    "W14 = tf.Variable(tf.random_uniform([5, 5], -1.0, 1.0), name='weight14')\n",
    "W15 = tf.Variable(tf.random_uniform([5, 5], -1.0, 1.0), name='weight15')\n",
    "W16 = tf.Variable(tf.random_uniform([5, 1], -1.0, 1.0), name='weight16')\n",
    "\n",
    "b1 = tf.Variable(tf.zeros([5]), name='bias1')\n",
    "b2 = tf.Variable(tf.zeros([5]), name='bias2')\n",
    "b3 = tf.Variable(tf.zeros([5]), name='bias3')\n",
    "b4 = tf.Variable(tf.zeros([5]), name='bias4')\n",
    "b5 = tf.Variable(tf.zeros([5]), name='bias5')\n",
    "b6 = tf.Variable(tf.zeros([5]), name='bias6')\n",
    "b7 = tf.Variable(tf.zeros([5]), name='bias7')\n",
    "b8 = tf.Variable(tf.zeros([5]), name='bias8')\n",
    "b9 = tf.Variable(tf.zeros([5]), name='bias9')\n",
    "b10 = tf.Variable(tf.zeros([5]), name='bias10')\n",
    "b11 = tf.Variable(tf.random_normal([5]), name='bias11')\n",
    "b12 = tf.Variable(tf.random_normal([5]), name='bias12')\n",
    "b13 = tf.Variable(tf.random_normal([5]), name='bias13')\n",
    "b14 = tf.Variable(tf.random_normal([5]), name='bias14')\n",
    "b15 = tf.Variable(tf.random_normal([5]), name='bias15')\n",
    "b16 = tf.Variable(tf.random_normal([1]), name='bias16')\n",
    "\n",
    "layer1 = tf.nn.leaky_relu(tf.matmul(X, W1) + b1)\n",
    "layer2 = tf.nn.leaky_relu(tf.matmul(layer1, W2) + b2)\n",
    "layer3 = tf.nn.leaky_relu(tf.matmul(layer2, W3) + b3)\n",
    "layer4 = tf.nn.leaky_relu(tf.matmul(layer3, W4) + b4)\n",
    "layer5 = tf.nn.leaky_relu(tf.matmul(layer4, W5) + b5)\n",
    "layer6 = tf.nn.leaky_relu(tf.matmul(layer5, W6) + b6)\n",
    "layer7 = tf.nn.leaky_relu(tf.matmul(layer6, W7) + b7)\n",
    "layer8 = tf.nn.leaky_relu(tf.matmul(layer7, W8) + b8)\n",
    "layer9 = tf.nn.leaky_relu(tf.matmul(layer8, W9) + b9)\n",
    "layer10 = tf.nn.leaky_relu(tf.matmul(layer9, W10) + b10)\n",
    "layer11 = tf.nn.leaky_relu(tf.matmul(layer9, W10) + b11)\n",
    "layer12 = tf.nn.leaky_relu(tf.matmul(layer9, W10) + b12)\n",
    "layer13 = tf.nn.leaky_relu(tf.matmul(layer9, W10) + b13)\n",
    "layer14 = tf.nn.leaky_relu(tf.matmul(layer9, W10) + b14)\n",
    "layer15 = tf.nn.leaky_relu(tf.matmul(layer9, W10) + b15)\n",
    "\n",
    "hypothesis = tf.sigmoid(tf.matmul(layer15, W16) + b16)"
   ]
  },
  {
   "cell_type": "code",
   "execution_count": null,
   "metadata": {},
   "outputs": [],
   "source": [
    "# cost/loss function\n",
    "cost = -tf.reduce_mean(Y * tf.log(hypothesis) + (1 - Y) * tf.log(1 - hypothesis))\n",
    "train = tf.train.GradientDescentOptimizer(learning_rate=0.1).minimize(cost)"
   ]
  },
  {
   "cell_type": "code",
   "execution_count": null,
   "metadata": {},
   "outputs": [],
   "source": [
    "# Accuracy computation\n",
    "# True if hypothesis>0.5 else False\n",
    "predicted = tf.cast(hypothesis > 0.5, dtype=tf.float32)\n",
    "accuracy = tf.reduce_mean(tf.cast(tf.equal(predicted, Y), dtype=tf.float32))"
   ]
  },
  {
   "cell_type": "code",
   "execution_count": null,
   "metadata": {},
   "outputs": [],
   "source": [
    "# Launch graph\n",
    "with tf.Session() as sess:\n",
    "    # Initialize TensorFlow variables\n",
    "    sess.run(tf.global_variables_initializer())\n",
    "\n",
    "    for step in range(10001):\n",
    "        _, cost_val = sess.run([train, cost], feed_dict={X: x_data, Y: y_data})\n",
    "        if step % 100 == 0:\n",
    "            print(step, cost_val)\n",
    "\n",
    "    # Accuracy report\n",
    "    h, c, a = sess.run(\n",
    "        [hypothesis, predicted, accuracy], feed_dict={X: x_data, Y: y_data}\n",
    "    )\n",
    "    print(\"\\nHypothesis: \", h, \"\\nCorrect: \", c, \"\\nAccuracy: \", a)"
   ]
  }
 ],
 "metadata": {
  "kernelspec": {
   "display_name": "Python 3",
   "language": "python",
   "name": "python3"
  },
  "language_info": {
   "codemirror_mode": {
    "name": "ipython",
    "version": 3
   },
   "file_extension": ".py",
   "mimetype": "text/x-python",
   "name": "python",
   "nbconvert_exporter": "python",
   "pygments_lexer": "ipython3",
   "version": "3.6.13"
  }
 },
 "nbformat": 4,
 "nbformat_minor": 4
}
